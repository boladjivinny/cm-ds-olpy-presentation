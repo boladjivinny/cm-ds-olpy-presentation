{
 "cells": [
  {
   "cell_type": "markdown",
   "id": "47729c1d",
   "metadata": {},
   "source": [
    "### Install package(s)"
   ]
  },
  {
   "cell_type": "code",
   "execution_count": 1,
   "id": "34366c2c",
   "metadata": {},
   "outputs": [
    {
     "name": "stdout",
     "output_type": "stream",
     "text": [
      "Collecting olpy\n",
      "  Downloading olpy-1.0.0.dev3-py3-none-any.whl (710 kB)\n",
      "\u001b[K     |████████████████████████████████| 710 kB 408 kB/s eta 0:00:01\n",
      "\u001b[?25hCollecting numpy>=1.20.1\n",
      "  Downloading numpy-1.20.2-cp38-cp38-manylinux2010_x86_64.whl (15.4 MB)\n",
      "\u001b[K     |████████████████████████████████| 15.4 MB 449 kB/s eta 0:00:01\n",
      "\u001b[?25hCollecting pandas>=1.1.3\n",
      "  Downloading pandas-1.2.4-cp38-cp38-manylinux1_x86_64.whl (9.7 MB)\n",
      "\u001b[K     |████████████████████████████████| 9.7 MB 2.3 MB/s eta 0:00:01\n",
      "\u001b[?25hCollecting scikit-learn>=0.24.1\n",
      "  Downloading scikit_learn-0.24.1-cp38-cp38-manylinux2010_x86_64.whl (24.9 MB)\n",
      "\u001b[K     |████████████████████████████████| 24.9 MB 1.1 MB/s eta 0:00:01\n",
      "\u001b[?25hCollecting pytz>=2017.3\n",
      "  Using cached pytz-2021.1-py2.py3-none-any.whl (510 kB)\n",
      "Collecting python-dateutil>=2.7.3\n",
      "  Using cached python_dateutil-2.8.1-py2.py3-none-any.whl (227 kB)\n",
      "Collecting six>=1.5\n",
      "  Downloading six-1.15.0-py2.py3-none-any.whl (10 kB)\n",
      "Collecting threadpoolctl>=2.0.0\n",
      "  Downloading threadpoolctl-2.1.0-py3-none-any.whl (12 kB)\n",
      "Collecting joblib>=0.11\n",
      "  Downloading joblib-1.0.1-py3-none-any.whl (303 kB)\n",
      "\u001b[K     |████████████████████████████████| 303 kB 1.2 MB/s eta 0:00:01\n",
      "\u001b[?25hCollecting scipy>=0.19.1\n",
      "  Downloading scipy-1.6.2-cp38-cp38-manylinux1_x86_64.whl (27.2 MB)\n",
      "\u001b[K     |████████████████████████████████| 27.2 MB 460 kB/s eta 0:00:01\n",
      "\u001b[?25hInstalling collected packages: six, numpy, threadpoolctl, scipy, pytz, python-dateutil, joblib, scikit-learn, pandas, olpy\n",
      "Successfully installed joblib-1.0.1 numpy-1.20.2 olpy-1.0.0.dev3 pandas-1.2.4 python-dateutil-2.8.1 pytz-2021.1 scikit-learn-0.24.1 scipy-1.6.2 six-1.15.0 threadpoolctl-2.1.0\n"
     ]
    }
   ],
   "source": [
    "!pip install olpy"
   ]
  },
  {
   "cell_type": "markdown",
   "id": "a0974f1c",
   "metadata": {},
   "source": [
    "### Import the packages needed"
   ]
  },
  {
   "cell_type": "code",
   "execution_count": 91,
   "id": "74827f7d",
   "metadata": {},
   "outputs": [],
   "source": [
    "from olpy.classifiers import *\n",
    "from sklearn.datasets import make_hastie_10_2\n",
    "from sklearn.metrics import accuracy_score\n",
    "from sklearn.linear_model import LogisticRegression\n",
    "from sklearn.svm import LinearSVC\n",
    "from sklearn.model_selection import train_test_split"
   ]
  },
  {
   "cell_type": "markdown",
   "id": "c68c17b5",
   "metadata": {},
   "source": [
    "### Load the dummy data"
   ]
  },
  {
   "cell_type": "code",
   "execution_count": 26,
   "id": "2353913b",
   "metadata": {},
   "outputs": [],
   "source": [
    "X, y = make_hastie_10_2(n_samples=200, random_state=32)\n",
    "X_train, X_test, y_train, y_test = train_test_split(X, y, test_size=0.2)"
   ]
  },
  {
   "cell_type": "markdown",
   "id": "31245260",
   "metadata": {},
   "source": [
    "### Getting preliminary results"
   ]
  },
  {
   "cell_type": "code",
   "execution_count": 92,
   "id": "a45736ca",
   "metadata": {},
   "outputs": [],
   "source": [
    "models = [\n",
    "    LogisticRegression(random_state=32),\n",
    "    LinearSVC(random_state=32),\n",
    "    CW(random_state=32),\n",
    "    SCW(random_state=32),\n",
    "    ALMA(random_state=32),\n",
    "    IELLIP(random_state=32),\n",
    "    aROMMA(random_state=32),\n",
    "    OGD(random_state=32),\n",
    "    PA(random_state=32),\n",
    "    PA_I(random_state=32),\n",
    "    PA_II(random_state=32),\n",
    "    Perceptron(random_state=32),\n",
    "    CW(random_state=32),\n",
    "    AROW(random_state=32),\n",
    "    SCW(random_state=32),\n",
    "    SCW2(random_state=32),\n",
    "    ROMMA(random_state=32),\n",
    "]"
   ]
  },
  {
   "cell_type": "code",
   "execution_count": 93,
   "id": "4c9b91f8",
   "metadata": {},
   "outputs": [
    {
     "name": "stdout",
     "output_type": "stream",
     "text": [
      "LogisticRegression 0.45\n",
      "LinearSVC 0.45\n",
      "CW 0.45\n",
      "SCW 0.425\n",
      "ALMA 0.45\n",
      "IELLIP 0.425\n",
      "aROMMA 0.425\n",
      "OGD 0.425\n",
      "PA 0.325\n",
      "PA_I 0.325\n",
      "PA_II 0.325\n",
      "Perceptron 0.425\n",
      "CW 0.45\n",
      "AROW 0.4\n",
      "SCW 0.425\n",
      "SCW2 0.425\n",
      "ROMMA 0.45\n"
     ]
    }
   ],
   "source": [
    "for model in models:\n",
    "    model = model.fit(X_train, y_train)\n",
    "    print(type(model).__name__, model.score(X_test, y_test))"
   ]
  },
  {
   "cell_type": "markdown",
   "id": "0e9f7def",
   "metadata": {},
   "source": [
    "### Trying to improve the performance for the top 3 models"
   ]
  },
  {
   "cell_type": "code",
   "execution_count": 94,
   "id": "fe55d443",
   "metadata": {},
   "outputs": [],
   "source": [
    "from sklearn.model_selection import GridSearchCV\n",
    "\n",
    "# The models are AROW, PA_I and PA_II\n",
    "params_grid_pa = {\n",
    "    'num_iterations': range(10),\n",
    "    'C': [pow(10, i) for i in range(-3, 4)],\n",
    "}\n",
    "params_grid_arow = {\n",
    "    'num_iterations': range(10),\n",
    "    'r': [pow(10, i) for i in range(-3, 4)],\n",
    "}\n",
    "\n",
    "params_grid_svm = {\n",
    "    'C': [pow(10, i) for i in range(-3, 4)],\n",
    "    'loss': ['squared_hinge', 'hinge'],\n",
    "}\n",
    "\n",
    "m_ref = GridSearchCV(LinearSVC(random_state=32, max_iter=100000), params_grid_svm)\n",
    "m_1 = GridSearchCV(PA_I(random_state=32), params_grid_pa)\n",
    "m_2 = GridSearchCV(PA_II(random_state=32), params_grid_pa)\n",
    "m_3 = GridSearchCV(AROW(random_state=32), params_grid_arow)"
   ]
  },
  {
   "cell_type": "code",
   "execution_count": 95,
   "id": "026074a4",
   "metadata": {},
   "outputs": [
    {
     "name": "stderr",
     "output_type": "stream",
     "text": [
      "/home/boladji/codes/ds-olpy/pyenv/lib/python3.8/site-packages/sklearn/svm/_base.py:985: ConvergenceWarning: Liblinear failed to converge, increase the number of iterations.\n",
      "  warnings.warn(\"Liblinear failed to converge, increase \"\n",
      "/home/boladji/codes/ds-olpy/pyenv/lib/python3.8/site-packages/sklearn/svm/_base.py:985: ConvergenceWarning: Liblinear failed to converge, increase the number of iterations.\n",
      "  warnings.warn(\"Liblinear failed to converge, increase \"\n",
      "/home/boladji/codes/ds-olpy/pyenv/lib/python3.8/site-packages/sklearn/svm/_base.py:985: ConvergenceWarning: Liblinear failed to converge, increase the number of iterations.\n",
      "  warnings.warn(\"Liblinear failed to converge, increase \"\n",
      "/home/boladji/codes/ds-olpy/pyenv/lib/python3.8/site-packages/sklearn/svm/_base.py:985: ConvergenceWarning: Liblinear failed to converge, increase the number of iterations.\n",
      "  warnings.warn(\"Liblinear failed to converge, increase \"\n",
      "/home/boladji/codes/ds-olpy/pyenv/lib/python3.8/site-packages/sklearn/svm/_base.py:985: ConvergenceWarning: Liblinear failed to converge, increase the number of iterations.\n",
      "  warnings.warn(\"Liblinear failed to converge, increase \"\n",
      "/home/boladji/codes/ds-olpy/pyenv/lib/python3.8/site-packages/sklearn/svm/_base.py:985: ConvergenceWarning: Liblinear failed to converge, increase the number of iterations.\n",
      "  warnings.warn(\"Liblinear failed to converge, increase \"\n",
      "/home/boladji/codes/ds-olpy/pyenv/lib/python3.8/site-packages/sklearn/svm/_base.py:985: ConvergenceWarning: Liblinear failed to converge, increase the number of iterations.\n",
      "  warnings.warn(\"Liblinear failed to converge, increase \"\n",
      "/home/boladji/codes/ds-olpy/pyenv/lib/python3.8/site-packages/sklearn/svm/_base.py:985: ConvergenceWarning: Liblinear failed to converge, increase the number of iterations.\n",
      "  warnings.warn(\"Liblinear failed to converge, increase \"\n",
      "/home/boladji/codes/ds-olpy/pyenv/lib/python3.8/site-packages/sklearn/svm/_base.py:985: ConvergenceWarning: Liblinear failed to converge, increase the number of iterations.\n",
      "  warnings.warn(\"Liblinear failed to converge, increase \"\n",
      "/home/boladji/codes/ds-olpy/pyenv/lib/python3.8/site-packages/sklearn/svm/_base.py:985: ConvergenceWarning: Liblinear failed to converge, increase the number of iterations.\n",
      "  warnings.warn(\"Liblinear failed to converge, increase \"\n",
      "/home/boladji/codes/ds-olpy/pyenv/lib/python3.8/site-packages/sklearn/svm/_base.py:985: ConvergenceWarning: Liblinear failed to converge, increase the number of iterations.\n",
      "  warnings.warn(\"Liblinear failed to converge, increase \"\n"
     ]
    },
    {
     "data": {
      "text/plain": [
       "GridSearchCV(estimator=<olpy.classifiers.arow.AROW object at 0x7f4e9eecb280>,\n",
       "             param_grid={'num_iterations': range(0, 10),\n",
       "                         'r': [0.001, 0.01, 0.1, 1, 10, 100, 1000]})"
      ]
     },
     "execution_count": 95,
     "metadata": {},
     "output_type": "execute_result"
    }
   ],
   "source": [
    "# Fit the hyper-parameter tuning\n",
    "m_ref.fit(X_train, y_train)\n",
    "m_1.fit(X_train, y_train)\n",
    "m_2.fit(X_train, y_train)\n",
    "m_3.fit(X_train, y_train)"
   ]
  },
  {
   "cell_type": "code",
   "execution_count": 96,
   "id": "f22e6216",
   "metadata": {},
   "outputs": [
    {
     "name": "stdout",
     "output_type": "stream",
     "text": [
      "SVM: 0.45\n",
      "Passive Agressive I: 0.6\n",
      "Passive Agressive II: 0.475\n",
      "AROW: 0.625\n"
     ]
    }
   ],
   "source": [
    "print(\"SVM:\", m_ref.score(X_test, y_test))\n",
    "print(\"Passive Agressive I:\", m_1.score(X_test, y_test))\n",
    "print(\"Passive Agressive II:\", m_2.score(X_test, y_test))\n",
    "print(\"AROW:\", m_3.score(X_test, y_test))"
   ]
  },
  {
   "cell_type": "code",
   "execution_count": 97,
   "id": "6ade9be1",
   "metadata": {},
   "outputs": [
    {
     "name": "stdout",
     "output_type": "stream",
     "text": [
      "{'C': 0.001, 'num_iterations': 8}\n",
      "{'C': 10, 'num_iterations': 8}\n",
      "{'num_iterations': 0, 'r': 0.001}\n"
     ]
    }
   ],
   "source": [
    "print(m_1.best_params_)\n",
    "print(m_2.best_params_)\n",
    "print(m_3.best_params_)"
   ]
  },
  {
   "cell_type": "code",
   "execution_count": 98,
   "id": "a8fdf2da",
   "metadata": {},
   "outputs": [
    {
     "data": {
      "text/plain": [
       "<olpy.classifiers.arow.AROW at 0x7f4e9f6c7910>"
      ]
     },
     "execution_count": 98,
     "metadata": {},
     "output_type": "execute_result"
    }
   ],
   "source": [
    "# We can create new data and learn from it\n",
    "X_new, y_new = make_hastie_10_2(n_samples=100, random_state=32)\n",
    "\n",
    "m1 = m_1.best_estimator_\n",
    "m2 = m_2.best_estimator_\n",
    "m3 = m_3.best_estimator_\n",
    "\n",
    "m1.partial_fit(X_new, y_new)\n",
    "m2.partial_fit(X_new, y_new)\n",
    "m3.partial_fit(X_new, y_new)"
   ]
  },
  {
   "cell_type": "markdown",
   "id": "8a0348d2",
   "metadata": {},
   "source": [
    "> It is far from being perfect"
   ]
  },
  {
   "cell_type": "code",
   "execution_count": 99,
   "id": "30943404",
   "metadata": {},
   "outputs": [
    {
     "name": "stdout",
     "output_type": "stream",
     "text": [
      "SVM: 0.45\n",
      "Passive Agressive I: 0.15\n",
      "Passive Agressive II: 0.15\n",
      "AROW: 0.175\n"
     ]
    }
   ],
   "source": [
    "print(\"SVM:\", m_ref.score(X_test, y_test))\n",
    "print(\"Passive Agressive I:\", m1.score(X_test, y_test))\n",
    "print(\"Passive Agressive II:\", m2.score(X_test, y_test))\n",
    "print(\"AROW:\", m3.score(X_test, y_test))"
   ]
  },
  {
   "cell_type": "code",
   "execution_count": null,
   "id": "d2bda7e0",
   "metadata": {},
   "outputs": [],
   "source": []
  }
 ],
 "metadata": {
  "kernelspec": {
   "display_name": "Python 3",
   "language": "python",
   "name": "python3"
  },
  "language_info": {
   "codemirror_mode": {
    "name": "ipython",
    "version": 3
   },
   "file_extension": ".py",
   "mimetype": "text/x-python",
   "name": "python",
   "nbconvert_exporter": "python",
   "pygments_lexer": "ipython3",
   "version": "3.8.5"
  }
 },
 "nbformat": 4,
 "nbformat_minor": 5
}
